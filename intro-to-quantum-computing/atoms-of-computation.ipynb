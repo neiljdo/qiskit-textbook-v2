{
 "cells": [
  {
   "cell_type": "markdown",
   "id": "24e348ce-a0ae-475b-9f94-d527f094960e",
   "metadata": {},
   "source": [
    "## Creating qircuits"
   ]
  },
  {
   "cell_type": "code",
   "execution_count": 6,
   "id": "d4b1a4ff-95c9-46c5-91f7-c3ca42def631",
   "metadata": {},
   "outputs": [],
   "source": [
    "from qiskit import QuantumCircuit"
   ]
  },
  {
   "cell_type": "code",
   "execution_count": 13,
   "id": "6e3aeb06-de80-4f70-a4b0-ee6762eb4cdb",
   "metadata": {},
   "outputs": [],
   "source": [
    "def create_quantum_circuit():\n",
    "    qc = QuantumCircuit(3, 3)\n",
    "    # measure qubits 0...2 to cbits (classical bits) 0...2\n",
    "    qc.measure(\n",
    "        [0, 1, 2], # qubits\n",
    "        [0, 1, 2], # cbits\n",
    "    )\n",
    "    \n",
    "    return qc"
   ]
  },
  {
   "cell_type": "code",
   "execution_count": 14,
   "id": "450e09cc-b5e3-45b6-8654-7217e0da92af",
   "metadata": {},
   "outputs": [
    {
     "data": {
      "image/png": "[encoded data removed]",
      "text/plain": [
       "<Figure size 267.197x264.88 with 1 Axes>"
      ]
     },
     "execution_count": 14,
     "metadata": {},
     "output_type": "execute_result"
    }
   ],
   "source": [
    "qc = create_quantum_circuit()\n",
    "qc.draw(output=\"mpl\")"
   ]
  },
  {
   "cell_type": "markdown",
   "id": "ab084560-9d42-4ea6-9851-c9ea931555d4",
   "metadata": {},
   "source": [
    "Currently, we still use classical computers to simulate how a quantum circuit will behave when run. Simulating a quantum computer is a difficult problem (TODO: see actual complexity class), we can only simulate small quantum circuits or those with special properties that lends to optimization. This also explains why quantum circuit optimization techniques is a growing area of research. ZX-calculus, tensor networks, etc. are some examples of those optimization techniques.\n",
    "\n",
    "An interesting question is that are the techniques of quantum many-body systems utilized in the development of quantum hardware and/or quantum circuit simulators? This could be a good area of (personal) research in the future."
   ]
  },
  {
   "cell_type": "markdown",
   "id": "8b8d664c-46df-4452-ad8d-660465ed13fb",
   "metadata": {},
   "source": [
    "## Simulating a qircuit"
   ]
  },
  {
   "cell_type": "code",
   "execution_count": 16,
   "id": "c9b3c3cb-2c3d-46ac-b3a9-8020dc598288",
   "metadata": {},
   "outputs": [],
   "source": [
    "from qiskit.providers.aer import AerSimulator"
   ]
  },
  {
   "cell_type": "code",
   "execution_count": 17,
   "id": "a16be599-22e7-4d8e-aca1-fd92ae02da86",
   "metadata": {},
   "outputs": [],
   "source": [
    "sim = AerSimulator()"
   ]
  },
  {
   "cell_type": "code",
   "execution_count": 18,
   "id": "724c8d08-5e1f-439b-b5c1-faab62b050f7",
   "metadata": {},
   "outputs": [],
   "source": [
    "job = sim.run(qc)"
   ]
  },
  {
   "cell_type": "code",
   "execution_count": 19,
   "id": "168fc698-5051-4b74-b678-83f5379c4f86",
   "metadata": {},
   "outputs": [],
   "source": [
    "result = job.result()"
   ]
  },
  {
   "cell_type": "code",
   "execution_count": 20,
   "id": "b0777936-348f-412e-90be-f9cb63175d76",
   "metadata": {},
   "outputs": [
    {
     "data": {
      "text/plain": [
       "{'000': 1024}"
      ]
     },
     "execution_count": 20,
     "metadata": {},
     "output_type": "execute_result"
    }
   ],
   "source": [
    "result.get_counts()"
   ]
  },
  {
   "cell_type": "markdown",
   "id": "df2c72e8-e541-4fca-8ef7-a41b37091560",
   "metadata": {},
   "source": [
    "## Encoding bits"
   ]
  },
  {
   "cell_type": "code",
   "execution_count": 21,
   "id": "a3b438ed-a565-45ad-97ba-bd50deb85c43",
   "metadata": {},
   "outputs": [
    {
     "data": {
      "text/plain": [
       "<qiskit.circuit.instructionset.InstructionSet at 0x7fbd10c31cc0>"
      ]
     },
     "execution_count": 21,
     "metadata": {},
     "output_type": "execute_result"
    }
   ],
   "source": [
    "qc = QuantumCircuit(3, 3)\n",
    "qc.x([0, 1])"
   ]
  },
  {
   "cell_type": "code",
   "execution_count": 22,
   "id": "47866e57-7e69-416a-ae10-3ae271f60197",
   "metadata": {},
   "outputs": [
    {
     "data": {
      "text/plain": [
       "<qiskit.circuit.instructionset.InstructionSet at 0x7fbd40c67a80>"
      ]
     },
     "execution_count": 22,
     "metadata": {},
     "output_type": "execute_result"
    }
   ],
   "source": [
    "qc.barrier()\n",
    "qc.measure([0, 1, 2], [0, 1, 2])"
   ]
  },
  {
   "cell_type": "code",
   "execution_count": 23,
   "id": "2587ecad-8a39-49d7-96af-73a9be25f0ee",
   "metadata": {},
   "outputs": [
    {
     "data": {
      "image/png": "[encoded data removed]",
      "text/plain": [
       "<Figure size 387.597x264.88 with 1 Axes>"
      ]
     },
     "execution_count": 23,
     "metadata": {},
     "output_type": "execute_result"
    }
   ],
   "source": [
    "qc.draw(output=\"mpl\")"
   ]
  },
  {
   "cell_type": "code",
   "execution_count": 24,
   "id": "ec7af56c-28bb-46a4-bdf1-8b8237794a9e",
   "metadata": {},
   "outputs": [
    {
     "data": {
      "text/plain": [
       "{'011': 1024}"
      ]
     },
     "execution_count": 24,
     "metadata": {},
     "output_type": "execute_result"
    }
   ],
   "source": [
    "job = sim.run(qc)\n",
    "result = job.result()\n",
    "result.get_counts()"
   ]
  },
  {
   "cell_type": "markdown",
   "id": "e6a513ae-cabd-4fa4-9c41-2682f09987ed",
   "metadata": {},
   "source": [
    "## Adder qircuit"
   ]
  },
  {
   "cell_type": "markdown",
   "id": "032fec1c-26c8-427b-8b24-ffc6fc6c4820",
   "metadata": {},
   "source": [
    "### Half adder"
   ]
  },
  {
   "cell_type": "code",
   "execution_count": 34,
   "id": "397181ce-5155-4e89-8310-497ef72a8105",
   "metadata": {},
   "outputs": [
    {
     "data": {
      "text/plain": [
       "<qiskit.circuit.instructionset.InstructionSet at 0x7fbd2304e7c0>"
      ]
     },
     "execution_count": 34,
     "metadata": {},
     "output_type": "execute_result"
    }
   ],
   "source": [
    "qc = QuantumCircuit(4, 2)\n",
    "qc.x([0, 1])\n",
    "qc.barrier()\n",
    "# Define operation for the half-adder here\n",
    "qc.cx(0, 2)\n",
    "qc.cx(1, 2)\n",
    "qc.ccx(0, 1, 3)\n",
    "qc.barrier()\n",
    "qc.measure([2, 3], [0, 1])"
   ]
  },
  {
   "cell_type": "code",
   "execution_count": 35,
   "id": "fcc780d1-9d13-439e-90ad-ad372dfedc62",
   "metadata": {},
   "outputs": [
    {
     "data": {
      "image/png": "[encoded data removed]",
      "text/plain": [
       "<Figure size 568.197x325.08 with 1 Axes>"
      ]
     },
     "execution_count": 35,
     "metadata": {},
     "output_type": "execute_result"
    }
   ],
   "source": [
    "qc.draw(output=\"mpl\")"
   ]
  },
  {
   "cell_type": "markdown",
   "id": "1781bd86-df99-4063-a14f-5d4f86a0ff06",
   "metadata": {},
   "source": [
    "Mathematically, the CNOT or CX gate performs `A XOR B` for `qc.cx(A, B)`.\n",
    "\n",
    "The first CX gate does `A XOR 0 = A`.<br>\n",
    "The second CX gate then does `B XOR A = A XOR B`.\n",
    "\n",
    "When adding 2 bits, the thing we want to accomplish with this qircuit, the first bit of the result (from the right) is `A XOR B`. (See the table below, the inputs are padded with 0s on the left).\n",
    "\n",
    "| A | B | A + B |\n",
    "| --- | --- | --- |\n",
    "| 00 | 00 | 00 |\n",
    "| 01 | 00 | 01 |\n",
    "| 00 | 01 | 01 |\n",
    "| 01 | 01 | 10 |\n",
    "\n",
    "For the second bit, we need something that would return 1 when both A **and** B are 1 - essentially an `AND` gate. There is a gate that exactly does this, the Toffoli gate. It's like the CX gate but with 2 control bits and 1 output bit. It's implemented via `qc.ccx()`.\n"
   ]
  },
  {
   "cell_type": "code",
   "execution_count": 36,
   "id": "0e97d073-b397-4572-a567-e0e23fc436f6",
   "metadata": {},
   "outputs": [
    {
     "name": "stdout",
     "output_type": "stream",
     "text": [
      "Result:  {'10': 1024}\n"
     ]
    }
   ],
   "source": [
    "job = sim.run(qc)\n",
    "result = job.result()\n",
    "print(\"Result: \", result.get_counts())"
   ]
  },
  {
   "cell_type": "markdown",
   "id": "e2fa8de4-bccc-4df5-886d-51826c2d8e07",
   "metadata": {},
   "source": [
    "To test for the other possible inputs, we rewrite the above into a function:"
   ]
  },
  {
   "cell_type": "code",
   "execution_count": 37,
   "id": "ef0f989e-81b3-43ed-9371-20a895bafe5b",
   "metadata": {},
   "outputs": [],
   "source": [
    "def add_via_qircuit_half_adder(bit1: int, bit2: int, sim):\n",
    "    qc = QuantumCircuit(4, 2)\n",
    "    if bit1:\n",
    "        qc.x(0)\n",
    "    if bit2:\n",
    "        qc.x(1)\n",
    "\n",
    "    qc.barrier()\n",
    "    # Define operation for the half-adder here\n",
    "    qc.cx(0, 2)\n",
    "    qc.cx(1, 2)\n",
    "    qc.ccx(0, 1, 3)\n",
    "    qc.barrier()\n",
    "    qc.measure([2, 3], [0, 1])\n",
    "    \n",
    "    # Draw the qircuit just to check\n",
    "    qc.draw(output=\"mpl\")\n",
    "    \n",
    "    job = sim.run(qc)\n",
    "    result = job.result()\n",
    "    return result.get_counts()"
   ]
  },
  {
   "cell_type": "code",
   "execution_count": 41,
   "id": "0e3260b4-c7b9-42ff-8f33-b201d18d3720",
   "metadata": {},
   "outputs": [
    {
     "name": "stdout",
     "output_type": "stream",
     "text": [
      "0 + 0 = {'00': 1024}\n",
      "0 + 1 = {'01': 1024}\n",
      "1 + 0 = {'01': 1024}\n",
      "1 + 1 = {'10': 1024}\n"
     ]
    }
   ],
   "source": [
    "print(f\"0 + 0 = {add_via_qircuit_half_adder(0, 0, sim)}\")\n",
    "print(f\"0 + 1 = {add_via_qircuit_half_adder(0, 1, sim)}\")\n",
    "print(f\"1 + 0 = {add_via_qircuit_half_adder(1, 0, sim)}\")\n",
    "print(f\"1 + 1 = {add_via_qircuit_half_adder(1, 1, sim)}\")"
   ]
  },
  {
   "cell_type": "markdown",
   "id": "c145ab32-21ec-4ef0-a9df-93271ba79a51",
   "metadata": {},
   "source": [
    "We have verified that our implementation of the half adder works!\n",
    "\n",
    "Here's a list of things worth exploring:\n",
    "* How could we extend the half adder to arbitrary-length bit strings?\n",
    "* How does the CNOT/CX gate work?\n",
    "* How does the Toffoli/CCX gate work?\n",
    "* How does the `AerSimulator` work? Specifically what happens when the `AerSimulator.run()` is called?"
   ]
  },
  {
   "cell_type": "code",
   "execution_count": null,
   "id": "093cdbba-1668-4295-a147-f0bddb4cf470",
   "metadata": {},
   "outputs": [],
   "source": []
  }
 ],
 "metadata": {
  "kernelspec": {
   "display_name": "Python 3 (ipykernel)",
   "language": "python",
   "name": "python3"
  },
  "language_info": {
   "codemirror_mode": {
    "name": "ipython",
    "version": 3
   },
   "file_extension": ".py",
   "mimetype": "text/x-python",
   "name": "python",
   "nbconvert_exporter": "python",
   "pygments_lexer": "ipython3",
   "version": "3.10.4"
  }
 },
 "nbformat": 4,
 "nbformat_minor": 5
}
